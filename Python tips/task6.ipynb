{
 "cells": [
  {
   "cell_type": "markdown",
   "metadata": {},
   "source": [
    "# Multiprocessing and progress bars\n",
    "\n",
    "Reference notebook for the sixth task of the *Python Tricks and Hacks for Productivity* course on Coursera.\n",
    "\n",
    "**Instructor**: *Danilo Lessa Bernardineli (danilo.bernardineli@usp.br)*"
   ]
  },
  {
   "cell_type": "code",
   "execution_count": 1,
   "metadata": {},
   "outputs": [
    {
     "name": "stdout",
     "output_type": "stream",
     "text": [
      "done!\n"
     ]
    }
   ],
   "source": [
    "N = int(5e6) # this is 5 million\n",
    "a = 3.8\n",
    "\n",
    "def logistic_map(a: float,\n",
    "                 x: float) -> float:\n",
    "    return a * x * (1 - x)\n",
    "\n",
    "x = 0.9\n",
    "for i in range(N):\n",
    "    x = logistic_map(a, x)\n",
    "print(\"done!\")"
   ]
  },
  {
   "cell_type": "code",
   "execution_count": 3,
   "metadata": {},
   "outputs": [
    {
     "data": {
      "application/vnd.jupyter.widget-view+json": {
       "model_id": "c3dd3064fe5f44b4b2d6baedad6aa529",
       "version_major": 2,
       "version_minor": 0
      },
      "text/plain": [
       "HBox(children=(FloatProgress(value=0.0, max=5000000.0), HTML(value='')))"
      ]
     },
     "metadata": {},
     "output_type": "display_data"
    },
    {
     "name": "stdout",
     "output_type": "stream",
     "text": [
      "\n",
      "done!\n"
     ]
    }
   ],
   "source": [
    "from tqdm.auto import tqdm\n",
    "\n",
    "N = int(5e6) # this is 5 million\n",
    "a = 3.8\n",
    "\n",
    "def logistic_map(a: float,\n",
    "                 x: float) -> float:\n",
    "    return a * x * (1 - x)\n",
    "\n",
    "x = 0.9\n",
    "for i in tqdm(range(N)):\n",
    "    x = logistic_map(a, x)\n",
    "print(\"done!\")"
   ]
  },
  {
   "cell_type": "code",
   "execution_count": 4,
   "metadata": {},
   "outputs": [
    {
     "data": {
      "application/vnd.jupyter.widget-view+json": {
       "model_id": "26a804be26d849ac85161241a1756f28",
       "version_major": 2,
       "version_minor": 0
      },
      "text/plain": [
       "HBox(children=(FloatProgress(value=0.0, description='Iterating on the logistic map', max=5000000.0, style=Prog…"
      ]
     },
     "metadata": {},
     "output_type": "display_data"
    },
    {
     "name": "stdout",
     "output_type": "stream",
     "text": [
      "\n",
      "done!\n"
     ]
    }
   ],
   "source": [
    "from tqdm.auto import tqdm\n",
    "\n",
    "N = int(5e6) # this is 5 million\n",
    "a = 3.8\n",
    "\n",
    "def logistic_map(a: float,\n",
    "                 x: float) -> float:\n",
    "    return a * x * (1 - x)\n",
    "\n",
    "x = 0.9\n",
    "for i in tqdm(range(N),\n",
    "              desc='Iterating on the logistic map'):\n",
    "    x = logistic_map(a, x)\n",
    "print(\"done!\")"
   ]
  },
  {
   "cell_type": "code",
   "execution_count": 6,
   "metadata": {},
   "outputs": [
    {
     "data": {
      "application/vnd.jupyter.widget-view+json": {
       "model_id": "7845cb1c121f47f6b4d5b14e2f047384",
       "version_major": 2,
       "version_minor": 0
      },
      "text/plain": [
       "HBox(children=(FloatProgress(value=0.0, description='Iterating on the logistic map', max=4.0, style=ProgressSt…"
      ]
     },
     "metadata": {},
     "output_type": "display_data"
    },
    {
     "data": {
      "application/vnd.jupyter.widget-view+json": {
       "model_id": "0340278e3f854ece945f47ea10ba9a56",
       "version_major": 2,
       "version_minor": 0
      },
      "text/plain": [
       "HBox(children=(FloatProgress(value=0.0, description='Initial value: 0.2', max=5000000.0, style=ProgressStyle(d…"
      ]
     },
     "metadata": {},
     "output_type": "display_data"
    },
    {
     "name": "stdout",
     "output_type": "stream",
     "text": [
      "\n"
     ]
    },
    {
     "data": {
      "application/vnd.jupyter.widget-view+json": {
       "model_id": "25727b2551514c5696c758ab0cb41ed5",
       "version_major": 2,
       "version_minor": 0
      },
      "text/plain": [
       "HBox(children=(FloatProgress(value=0.0, description='Initial value: 0.4', max=5000000.0, style=ProgressStyle(d…"
      ]
     },
     "metadata": {},
     "output_type": "display_data"
    },
    {
     "name": "stdout",
     "output_type": "stream",
     "text": [
      "\n"
     ]
    },
    {
     "data": {
      "application/vnd.jupyter.widget-view+json": {
       "model_id": "135b9d6c8f674a03838a19a8ae8db213",
       "version_major": 2,
       "version_minor": 0
      },
      "text/plain": [
       "HBox(children=(FloatProgress(value=0.0, description='Initial value: 0.6', max=5000000.0, style=ProgressStyle(d…"
      ]
     },
     "metadata": {},
     "output_type": "display_data"
    },
    {
     "name": "stdout",
     "output_type": "stream",
     "text": [
      "\n"
     ]
    },
    {
     "data": {
      "application/vnd.jupyter.widget-view+json": {
       "model_id": "4ba167af0b2f4c508e808184e9ef7e93",
       "version_major": 2,
       "version_minor": 0
      },
      "text/plain": [
       "HBox(children=(FloatProgress(value=0.0, description='Initial value: 0.8', max=5000000.0, style=ProgressStyle(d…"
      ]
     },
     "metadata": {},
     "output_type": "display_data"
    },
    {
     "name": "stdout",
     "output_type": "stream",
     "text": [
      "\n",
      "\n",
      "done!\n"
     ]
    }
   ],
   "source": [
    "from tqdm.auto import tqdm\n",
    "\n",
    "N = int(5e6) # this is 5 million\n",
    "a = 3.8\n",
    "x_i = [0.2, 0.4, 0.6, 0.8]\n",
    "\n",
    "def logistic_map(a: float,\n",
    "                 x: float) -> float:\n",
    "    return a * x * (1 - x)\n",
    "\n",
    "\n",
    "for x_0 in tqdm(x_i,\n",
    "              desc=f'Iterating on the logistic map'):\n",
    "    x = x_0\n",
    "    for i in tqdm(range(N),\n",
    "                  desc=f'Initial value: {x_0}'):\n",
    "        x = logistic_map(a, x)\n",
    "print(\"done!\")"
   ]
  },
  {
   "cell_type": "code",
   "execution_count": 7,
   "metadata": {},
   "outputs": [
    {
     "data": {
      "application/vnd.jupyter.widget-view+json": {
       "model_id": "8e9d63c81f464ae287fa0198ec936ca0",
       "version_major": 2,
       "version_minor": 0
      },
      "text/plain": [
       "HBox(children=(FloatProgress(value=0.0, description='Iterating on the logistic map', max=4.0, style=ProgressSt…"
      ]
     },
     "metadata": {},
     "output_type": "display_data"
    },
    {
     "name": "stdout",
     "output_type": "stream",
     "text": [
      "\n",
      "0.5198490289233741\n"
     ]
    }
   ],
   "source": [
    "from tqdm.auto import tqdm\n",
    "from multiprocessing.pool import Pool\n",
    "\n",
    "N = int(5e6) # this is 5 million\n",
    "a = 3.8\n",
    "x_i = [0.2, 0.4, 0.6, 0.8]\n",
    "\n",
    "\n",
    "def logistic_map(a: float,\n",
    "                 x: float) -> float:\n",
    "    return a * x * (1 - x)\n",
    "\n",
    "\n",
    "def logistic_simulation(x_0):\n",
    "    x = x_0\n",
    "    for i in range(N):\n",
    "        x = logistic_map(a, x)\n",
    "    return x\n",
    "\n",
    "\n",
    "for x_0 in tqdm(x_i,\n",
    "              desc=f'Iterating on the logistic map'):\n",
    "    output = logistic_simulation(x_0)\n",
    "\n",
    "print(output)"
   ]
  },
  {
   "cell_type": "code",
   "execution_count": 8,
   "metadata": {},
   "outputs": [
    {
     "name": "stdout",
     "output_type": "stream",
     "text": [
      "[0.5904506121259498, 0.948578349745379, 0.948578349745379, 0.5198490289233741]\n"
     ]
    }
   ],
   "source": [
    "from tqdm.auto import tqdm\n",
    "from multiprocessing.pool import Pool\n",
    "\n",
    "N = int(5e6) # this is 5 million\n",
    "a = 3.8\n",
    "x_i = [0.2, 0.4, 0.6, 0.8]\n",
    "\n",
    "\n",
    "def logistic_map(a: float,\n",
    "                 x: float) -> float:\n",
    "    return a * x * (1 - x)\n",
    "\n",
    "\n",
    "def logistic_simulation(x_0):\n",
    "    x = x_0\n",
    "    for i in range(N):\n",
    "        x = logistic_map(a, x)\n",
    "    return x\n",
    "\n",
    "\n",
    "with Pool() as p:\n",
    "    output = p.map(logistic_simulation, x_i)\n",
    "\n",
    "print(output)"
   ]
  },
  {
   "cell_type": "code",
   "execution_count": null,
   "metadata": {},
   "outputs": [
    {
     "data": {
      "application/vnd.jupyter.widget-view+json": {
       "model_id": "5e59e4cbb5b142f2a820326faee90ce9",
       "version_major": 2,
       "version_minor": 0
      },
      "text/plain": [
       "HBox(children=(FloatProgress(value=0.0, description='Sweeping values', max=10.0, style=ProgressStyle(descripti…"
      ]
     },
     "metadata": {},
     "output_type": "display_data"
    }
   ],
   "source": [
    "from tqdm.auto import tqdm\n",
    "from multiprocessing.pool import Pool\n",
    "\n",
    "N = int(5e6) # this is 5 million\n",
    "a = 3.8\n",
    "x_i = [0.1, 0.2, 0.3, 0.4, 0.5, 0.6, 0.7, 0.8, 0.9, 1.0]\n",
    "\n",
    "\n",
    "def logistic_map(a: float,\n",
    "                 x: float) -> float:\n",
    "    return a * x * (1 - x)\n",
    "\n",
    "\n",
    "def logistic_simulation(x_0):\n",
    "    x = x_0\n",
    "    for i in range(N):\n",
    "        x = logistic_map(a, x)\n",
    "    return x\n",
    "\n",
    "\n",
    "with Pool() as p:\n",
    "    iterator = p.imap(logistic_simulation, x_i)\n",
    "    output = tqdm(iterator, total=len(x_i), desc='Sweeping values')\n",
    "    output = list(output)\n",
    "\n",
    "print(output)"
   ]
  },
  {
   "cell_type": "code",
   "execution_count": null,
   "metadata": {},
   "outputs": [],
   "source": []
  }
 ],
 "metadata": {
  "kernelspec": {
   "display_name": "Python 3",
   "language": "python",
   "name": "python3"
  },
  "language_info": {
   "codemirror_mode": {
    "name": "ipython",
    "version": 3
   },
   "file_extension": ".py",
   "mimetype": "text/x-python",
   "name": "python",
   "nbconvert_exporter": "python",
   "pygments_lexer": "ipython3",
   "version": "3.6.9"
  }
 },
 "nbformat": 4,
 "nbformat_minor": 4
}
