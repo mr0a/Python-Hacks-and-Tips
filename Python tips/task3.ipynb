{
 "cells": [
  {
   "cell_type": "markdown",
   "metadata": {},
   "source": [
    "# Pythonic set and operations\n",
    "\n",
    "Reference notebook for the third task of the *Python Tricks and Hacks for Productivity* course on Coursera.\n",
    "\n",
    "**Instructor**: *Danilo Lessa Bernardineli (danilo.bernardineli@usp.br)*"
   ]
  },
  {
   "cell_type": "code",
   "execution_count": 1,
   "metadata": {},
   "outputs": [
    {
     "name": "stdout",
     "output_type": "stream",
     "text": [
      "['india', 'bangladesh', 'pakistan', 'brazil', 'egypt']\n"
     ]
    }
   ],
   "source": [
    "available_countries = ['india', 'bangladesh', 'pakistan', 'brazil']\n",
    "\n",
    "forbidden_countries = ['united_states', 'china', 'europe']\n",
    "\n",
    "new_countries = ['egypt', 'china', 'india']\n",
    "\n",
    "updated_countries = available_countries.copy()\n",
    "\n",
    "for country in new_countries:\n",
    "    if country not in available_countries:\n",
    "        if country not in forbidden_countries:\n",
    "            updated_countries.append(country)\n",
    "print(updated_countries)"
   ]
  },
  {
   "cell_type": "code",
   "execution_count": 1,
   "metadata": {},
   "outputs": [
    {
     "data": {
      "text/plain": [
       "{10, <function __main__.<lambda>(x)>, 'some_text'}"
      ]
     },
     "execution_count": 1,
     "metadata": {},
     "output_type": "execute_result"
    }
   ],
   "source": [
    "new_set = {10, 'some_text', lambda x: x ** 2}\n",
    "new_set"
   ]
  },
  {
   "cell_type": "code",
   "execution_count": 3,
   "metadata": {},
   "outputs": [
    {
     "data": {
      "text/plain": [
       "{10,\n",
       " <function __main__.<lambda>(x)>,\n",
       " <function __main__.<lambda>(x)>,\n",
       " 'some_text'}"
      ]
     },
     "execution_count": 3,
     "metadata": {},
     "output_type": "execute_result"
    }
   ],
   "source": [
    "new_set = {10, 10, 10, 10, 'some_text', lambda x: x ** 2,lambda x: x ** 2}\n",
    "new_set"
   ]
  },
  {
   "cell_type": "code",
   "execution_count": 4,
   "metadata": {},
   "outputs": [
    {
     "name": "stdout",
     "output_type": "stream",
     "text": [
      "{'pakistan', 'india', 'egypt', 'bangladesh', 'brazil'}\n"
     ]
    }
   ],
   "source": [
    "available_countries = {'india', 'bangladesh', 'pakistan', 'brazil'}\n",
    "\n",
    "forbidden_countries = {'united_states', 'china', 'europe'}\n",
    "\n",
    "new_countries = {'egypt', 'china', 'india'}\n",
    "\n",
    "updated_countries = available_countries | (new_countries - forbidden_countries)\n",
    "print(updated_countries)"
   ]
  },
  {
   "cell_type": "code",
   "execution_count": 5,
   "metadata": {},
   "outputs": [
    {
     "data": {
      "text/plain": [
       "{'china', 'egypt', 'india'}"
      ]
     },
     "execution_count": 5,
     "metadata": {},
     "output_type": "execute_result"
    }
   ],
   "source": [
    "new_countries"
   ]
  },
  {
   "cell_type": "code",
   "execution_count": 6,
   "metadata": {},
   "outputs": [
    {
     "data": {
      "text/plain": [
       "{'egypt', 'india'}"
      ]
     },
     "execution_count": 6,
     "metadata": {},
     "output_type": "execute_result"
    }
   ],
   "source": [
    "new_countries - forbidden_countries"
   ]
  },
  {
   "cell_type": "code",
   "execution_count": 7,
   "metadata": {},
   "outputs": [
    {
     "data": {
      "text/plain": [
       "{'bangladesh', 'brazil', 'china', 'egypt', 'india', 'pakistan'}"
      ]
     },
     "execution_count": 7,
     "metadata": {},
     "output_type": "execute_result"
    }
   ],
   "source": [
    "available_countries | new_countries"
   ]
  },
  {
   "cell_type": "code",
   "execution_count": 8,
   "metadata": {},
   "outputs": [
    {
     "data": {
      "text/plain": [
       "{'bangladesh', 'brazil', 'egypt', 'india', 'pakistan'}"
      ]
     },
     "execution_count": 8,
     "metadata": {},
     "output_type": "execute_result"
    }
   ],
   "source": [
    "available_countries | (new_countries - forbidden_countries)"
   ]
  },
  {
   "cell_type": "code",
   "execution_count": 9,
   "metadata": {},
   "outputs": [
    {
     "data": {
      "text/plain": [
       "{'india'}"
      ]
     },
     "execution_count": 9,
     "metadata": {},
     "output_type": "execute_result"
    }
   ],
   "source": [
    "available_countries & new_countries"
   ]
  },
  {
   "cell_type": "code",
   "execution_count": null,
   "metadata": {},
   "outputs": [],
   "source": []
  }
 ],
 "metadata": {
  "kernelspec": {
   "display_name": "Python 3",
   "language": "python",
   "name": "python3"
  },
  "language_info": {
   "codemirror_mode": {
    "name": "ipython",
    "version": 3
   },
   "file_extension": ".py",
   "mimetype": "text/x-python",
   "name": "python",
   "nbconvert_exporter": "python",
   "pygments_lexer": "ipython3",
   "version": "3.6.9"
  }
 },
 "nbformat": 4,
 "nbformat_minor": 4
}
