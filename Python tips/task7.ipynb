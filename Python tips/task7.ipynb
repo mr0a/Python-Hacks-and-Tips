{
 "cells": [
  {
   "cell_type": "markdown",
   "metadata": {},
   "source": [
    "# String formatting with .format and f-strings\n",
    "\n",
    "Reference notebook for the last task of the *Python Tricks and Hacks for Productivity* course on Coursera.\n",
    "\n",
    "**Instructor**: *Danilo Lessa Bernardineli (danilo.bernardineli@usp.br)*"
   ]
  },
  {
   "cell_type": "code",
   "execution_count": 1,
   "metadata": {},
   "outputs": [
    {
     "name": "stdout",
     "output_type": "stream",
     "text": [
      "Hi there!\n",
      "I'm learning how to format texts through task 7\n"
     ]
    }
   ],
   "source": [
    "task_no = 7\n",
    "text = \"Hi there!\"\n",
    "text += \"\\n\"\n",
    "text += \"I'm learning how to format texts\"\n",
    "text += \" through task \"\n",
    "text += str(task_no)\n",
    "print(text)"
   ]
  },
  {
   "cell_type": "code",
   "execution_count": 2,
   "metadata": {},
   "outputs": [
    {
     "name": "stdout",
     "output_type": "stream",
     "text": [
      "\n",
      "Hi there!\n",
      "I'm learning how to format texts through task 7\n"
     ]
    }
   ],
   "source": [
    "task_no = 7\n",
    "text = \"\"\"\n",
    "Hi there!\n",
    "I'm learning how to format texts through task \"\"\"\n",
    "text += str(task_no)\n",
    "\n",
    "print(text)"
   ]
  },
  {
   "cell_type": "code",
   "execution_count": 3,
   "metadata": {},
   "outputs": [
    {
     "name": "stdout",
     "output_type": "stream",
     "text": [
      "\n",
      "Hi there!\n",
      "I'm learning how to format texts through task 7\n"
     ]
    }
   ],
   "source": [
    "task_no = 7\n",
    "text = \"\"\"\n",
    "Hi there!\n",
    "I'm learning how to format texts through task {}\"\"\"\n",
    "\n",
    "print(text.format(task_no))"
   ]
  },
  {
   "cell_type": "code",
   "execution_count": 4,
   "metadata": {},
   "outputs": [
    {
     "name": "stdout",
     "output_type": "stream",
     "text": [
      "\n",
      "Hi there!\n",
      "I'm learning how to format texts through task 7.00\n"
     ]
    }
   ],
   "source": [
    "task_no = 7\n",
    "text = \"\"\"\n",
    "Hi there!\n",
    "I'm learning how to format texts through task {:.2f}\"\"\"\n",
    "\n",
    "print(text.format(task_no))"
   ]
  },
  {
   "cell_type": "code",
   "execution_count": 5,
   "metadata": {},
   "outputs": [
    {
     "name": "stdout",
     "output_type": "stream",
     "text": [
      "\n",
      "Hi there!\n",
      "I'm learning how to format texts through task 7.00\n"
     ]
    }
   ],
   "source": [
    "learning_object = 'texts'\n",
    "task_no = 7\n",
    "text = \"\"\"\n",
    "Hi there!\n",
    "I'm learning how to format {} through task {:.2f}\"\"\"\n",
    "\n",
    "print(text.format(learning_object, task_no))"
   ]
  },
  {
   "cell_type": "code",
   "execution_count": 7,
   "metadata": {},
   "outputs": [
    {
     "ename": "KeyError",
     "evalue": "'learning_object'",
     "output_type": "error",
     "traceback": [
      "\u001b[0;31m---------------------------------------------------------------------------\u001b[0m",
      "\u001b[0;31mKeyError\u001b[0m                                  Traceback (most recent call last)",
      "\u001b[0;32m<ipython-input-7-7622dba59164>\u001b[0m in \u001b[0;36m<module>\u001b[0;34m\u001b[0m\n\u001b[1;32m      7\u001b[0m through task {task_no}\"\"\"\n\u001b[1;32m      8\u001b[0m \u001b[0;34m\u001b[0m\u001b[0m\n\u001b[0;32m----> 9\u001b[0;31m \u001b[0mprint\u001b[0m\u001b[0;34m(\u001b[0m\u001b[0mtext\u001b[0m\u001b[0;34m.\u001b[0m\u001b[0mformat\u001b[0m\u001b[0;34m(\u001b[0m\u001b[0mformat_objects\u001b[0m\u001b[0;34m)\u001b[0m\u001b[0;34m)\u001b[0m\u001b[0;34m\u001b[0m\u001b[0;34m\u001b[0m\u001b[0m\n\u001b[0m",
      "\u001b[0;31mKeyError\u001b[0m: 'learning_object'"
     ]
    }
   ],
   "source": [
    "format_objects = {'learning_object': 'texts',\n",
    "                  'task_no': 7}\n",
    "\n",
    "text = \"\"\"\n",
    "Hi there!\n",
    "I'm learning how to format {learning_object}\n",
    "through task {task_no}\"\"\"\n",
    "\n",
    "print(text.format(*format_objects))"
   ]
  },
  {
   "cell_type": "code",
   "execution_count": 7,
   "metadata": {},
   "outputs": [
    {
     "name": "stdout",
     "output_type": "stream",
     "text": [
      "\n",
      "Hi there!\n",
      "I'm learning how to format texts\n",
      "through task 7\n"
     ]
    }
   ],
   "source": [
    "learning_object = 'texts'\n",
    "task_no = 7\n",
    "\n",
    "text = f\"\"\"\n",
    "Hi there!\n",
    "I'm learning how to format {learning_object}\n",
    "through task {task_no}\"\"\"\n",
    "print(text)"
   ]
  },
  {
   "cell_type": "code",
   "execution_count": 8,
   "metadata": {},
   "outputs": [
    {
     "name": "stdout",
     "output_type": "stream",
     "text": [
      "\n",
      "Hi there!\n",
      "I'm learning how to format texts\n",
      "through task 7.00\n"
     ]
    }
   ],
   "source": [
    "learning_object = 'texts'\n",
    "task_no = 7\n",
    "\n",
    "text = f\"\"\"\n",
    "Hi there!\n",
    "I'm learning how to format {learning_object}\n",
    "through task {task_no :.2f}\"\"\"\n",
    "print(text)"
   ]
  },
  {
   "cell_type": "code",
   "execution_count": null,
   "metadata": {},
   "outputs": [],
   "source": []
  },
  {
   "cell_type": "code",
   "execution_count": null,
   "metadata": {},
   "outputs": [],
   "source": []
  }
 ],
 "metadata": {
  "kernelspec": {
   "display_name": "Python 3",
   "language": "python",
   "name": "python3"
  },
  "language_info": {
   "codemirror_mode": {
    "name": "ipython",
    "version": 3
   },
   "file_extension": ".py",
   "mimetype": "text/x-python",
   "name": "python",
   "nbconvert_exporter": "python",
   "pygments_lexer": "ipython3",
   "version": "3.6.9"
  }
 },
 "nbformat": 4,
 "nbformat_minor": 4
}
