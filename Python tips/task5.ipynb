{
 "cells": [
  {
   "cell_type": "markdown",
   "metadata": {},
   "source": [
    "# Wrangling with zip and starred expressions\n",
    "\n",
    "Reference notebook for the fifth task of the *Python Tricks and Hacks for Productivity* course on Coursera.\n",
    "\n",
    "**Instructor**: *Danilo Lessa Bernardineli (danilo.bernardineli@usp.br)*"
   ]
  },
  {
   "cell_type": "code",
   "execution_count": 1,
   "metadata": {},
   "outputs": [],
   "source": [
    "from typing import NamedTuple\n",
    "\n",
    "class Record(NamedTuple):\n",
    "    name: str\n",
    "    value: float"
   ]
  },
  {
   "cell_type": "code",
   "execution_count": 2,
   "metadata": {},
   "outputs": [
    {
     "name": "stdout",
     "output_type": "stream",
     "text": [
      "[Record(name='Pinchai', value=10), Record(name='Lula', value=13), Record(name='Obama', value=20)]\n"
     ]
    }
   ],
   "source": [
    "names = ['Pinchai', 'Lula', 'Obama']\n",
    "values = [10, 13, 20]\n",
    "\n",
    "records = []\n",
    "for i, name in enumerate(names):\n",
    "    value = values[i]\n",
    "    record = Record(name=name, value=value)\n",
    "    records.append(record)\n",
    "    \n",
    "print(records)"
   ]
  },
  {
   "cell_type": "code",
   "execution_count": 5,
   "metadata": {},
   "outputs": [
    {
     "name": "stdout",
     "output_type": "stream",
     "text": [
      "[('Pinchai', 10), ('Lula', 13), ('Obama', 20)]\n"
     ]
    }
   ],
   "source": [
    "names = ['Pinchai', 'Lula', 'Obama']\n",
    "values = [10, 13, 20]\n",
    "records = zip(names, values)\n",
    "print(list(records))"
   ]
  },
  {
   "cell_type": "code",
   "execution_count": 6,
   "metadata": {},
   "outputs": [
    {
     "name": "stdout",
     "output_type": "stream",
     "text": [
      "[Record(name='Pinchai', value=10), Record(name='Lula', value=13), Record(name='Obama', value=20)]\n"
     ]
    }
   ],
   "source": [
    "names = ['Pinchai', 'Lula', 'Obama']\n",
    "values = [10, 13, 20]\n",
    "zipped_records = zip(names, values)\n",
    "records = [Record(name=name, value=value) for (name, value) in zipped_records]\n",
    "print(records)"
   ]
  },
  {
   "cell_type": "code",
   "execution_count": 5,
   "metadata": {},
   "outputs": [
    {
     "name": "stdout",
     "output_type": "stream",
     "text": [
      "[Record(name='Pinchai', value=10), Record(name='Lula', value=13), Record(name='Obama', value=20)]\n"
     ]
    }
   ],
   "source": [
    "names = ['Pinchai', 'Lula', 'Obama']\n",
    "values = [10, 13, 20]\n",
    "zipped_records = zip(names, values)\n",
    "records = [Record(*record) for record in zipped_records]\n",
    "print(list(records))"
   ]
  },
  {
   "cell_type": "code",
   "execution_count": 7,
   "metadata": {},
   "outputs": [
    {
     "name": "stdout",
     "output_type": "stream",
     "text": [
      "['Pinchai', 'Lula', 'Obama']\n",
      "[10, 13, 20]\n"
     ]
    }
   ],
   "source": [
    "names = ['Pinchai', 'Lula', 'Obama']\n",
    "values = [10, 13, 20]\n",
    "zipped_records = zip(names, values)\n",
    "records = [Record(*record) for record in zipped_records]\n",
    "\n",
    "new_names = []\n",
    "new_values = []\n",
    "for record in records:\n",
    "    new_names.append(record.name)\n",
    "    new_values.append(record.value)\n",
    "print(new_names)\n",
    "print(new_values)"
   ]
  },
  {
   "cell_type": "code",
   "execution_count": 8,
   "metadata": {},
   "outputs": [
    {
     "name": "stdout",
     "output_type": "stream",
     "text": [
      "('Pinchai', 'Lula', 'Obama')\n",
      "(10, 13, 20)\n"
     ]
    }
   ],
   "source": [
    "names = ['Pinchai', 'Lula', 'Obama']\n",
    "values = [10, 13, 20]\n",
    "zipped_records = zip(names, values)\n",
    "records = [Record(*record) for record in zipped_records]\n",
    "\n",
    "\n",
    "(new_names, new_values) = zip(*records)\n",
    "print(new_names)\n",
    "print(new_values)"
   ]
  },
  {
   "cell_type": "code",
   "execution_count": 9,
   "metadata": {},
   "outputs": [],
   "source": [
    "def f(*arguments):\n",
    "    for argument in arguments:\n",
    "        print(argument)\n",
    "    \n",
    "f()"
   ]
  },
  {
   "cell_type": "code",
   "execution_count": 10,
   "metadata": {},
   "outputs": [
    {
     "name": "stdout",
     "output_type": "stream",
     "text": [
      "1\n",
      "2\n",
      "3\n"
     ]
    }
   ],
   "source": [
    "f(1, 2, 3)"
   ]
  },
  {
   "cell_type": "code",
   "execution_count": 11,
   "metadata": {},
   "outputs": [
    {
     "name": "stdout",
     "output_type": "stream",
     "text": [
      "[1, 2, 3]\n"
     ]
    }
   ],
   "source": [
    "f([1, 2, 3])"
   ]
  },
  {
   "cell_type": "code",
   "execution_count": 12,
   "metadata": {},
   "outputs": [
    {
     "name": "stdout",
     "output_type": "stream",
     "text": [
      "1\n",
      "2\n",
      "3\n"
     ]
    }
   ],
   "source": [
    "f(*[1, 2, 3])"
   ]
  },
  {
   "cell_type": "code",
   "execution_count": null,
   "metadata": {},
   "outputs": [],
   "source": []
  }
 ],
 "metadata": {
  "kernelspec": {
   "display_name": "Python 3",
   "language": "python",
   "name": "python3"
  },
  "language_info": {
   "codemirror_mode": {
    "name": "ipython",
    "version": 3
   },
   "file_extension": ".py",
   "mimetype": "text/x-python",
   "name": "python",
   "nbconvert_exporter": "python",
   "pygments_lexer": "ipython3",
   "version": "3.6.9"
  }
 },
 "nbformat": 4,
 "nbformat_minor": 4
}
