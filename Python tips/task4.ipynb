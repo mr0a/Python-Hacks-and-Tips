{
 "cells": [
  {
   "cell_type": "markdown",
   "metadata": {},
   "source": [
    "# Type hinting\n",
    "\n",
    "Reference notebook for the fourth task of the *Python Tricks and Hacks for Productivity* course on Coursera.\n",
    "\n",
    "**Instructor**: *Danilo Lessa Bernardineli (danilo.bernardineli@usp.br)*"
   ]
  },
  {
   "cell_type": "code",
   "execution_count": 1,
   "metadata": {},
   "outputs": [],
   "source": [
    "def function(param_1, param_2, param_3):\n",
    "    var_1 = param_1 - param_2\n",
    "    var_2 = param_3 & param_2\n",
    "    var_3 = var_2 | var_1\n",
    "    return var_3"
   ]
  },
  {
   "cell_type": "code",
   "execution_count": 2,
   "metadata": {},
   "outputs": [
    {
     "data": {
      "text/plain": [
       "{1, 2, 5}"
      ]
     },
     "execution_count": 2,
     "metadata": {},
     "output_type": "execute_result"
    }
   ],
   "source": [
    "a = {1, 2, 3}\n",
    "b = {3, 4, 5}\n",
    "c = {5, 6, 7}\n",
    "r = function(a, b, c)\n",
    "r"
   ]
  },
  {
   "cell_type": "code",
   "execution_count": 3,
   "metadata": {},
   "outputs": [
    {
     "data": {
      "text/plain": [
       "-1"
      ]
     },
     "execution_count": 3,
     "metadata": {},
     "output_type": "execute_result"
    }
   ],
   "source": [
    "function(1, 2, 3)"
   ]
  },
  {
   "cell_type": "code",
   "execution_count": 4,
   "metadata": {},
   "outputs": [
    {
     "ename": "TypeError",
     "evalue": "unsupported operand type(s) for &: 'float' and 'float'",
     "output_type": "error",
     "traceback": [
      "\u001b[0;31m---------------------------------------------------------------------------\u001b[0m",
      "\u001b[0;31mTypeError\u001b[0m                                 Traceback (most recent call last)",
      "\u001b[0;32m<ipython-input-4-c384ff4f2543>\u001b[0m in \u001b[0;36m<module>\u001b[0;34m\u001b[0m\n\u001b[0;32m----> 1\u001b[0;31m \u001b[0mfunction\u001b[0m\u001b[0;34m(\u001b[0m\u001b[0;36m1.5\u001b[0m\u001b[0;34m,\u001b[0m \u001b[0;36m2.5\u001b[0m\u001b[0;34m,\u001b[0m \u001b[0;36m3.5\u001b[0m\u001b[0;34m)\u001b[0m\u001b[0;34m\u001b[0m\u001b[0;34m\u001b[0m\u001b[0m\n\u001b[0m",
      "\u001b[0;32m<ipython-input-1-24daf6a8719b>\u001b[0m in \u001b[0;36mfunction\u001b[0;34m(param_1, param_2, param_3)\u001b[0m\n\u001b[1;32m      1\u001b[0m \u001b[0;32mdef\u001b[0m \u001b[0mfunction\u001b[0m\u001b[0;34m(\u001b[0m\u001b[0mparam_1\u001b[0m\u001b[0;34m,\u001b[0m \u001b[0mparam_2\u001b[0m\u001b[0;34m,\u001b[0m \u001b[0mparam_3\u001b[0m\u001b[0;34m)\u001b[0m\u001b[0;34m:\u001b[0m\u001b[0;34m\u001b[0m\u001b[0;34m\u001b[0m\u001b[0m\n\u001b[1;32m      2\u001b[0m     \u001b[0mvar_1\u001b[0m \u001b[0;34m=\u001b[0m \u001b[0mparam_1\u001b[0m \u001b[0;34m-\u001b[0m \u001b[0mparam_2\u001b[0m\u001b[0;34m\u001b[0m\u001b[0;34m\u001b[0m\u001b[0m\n\u001b[0;32m----> 3\u001b[0;31m     \u001b[0mvar_2\u001b[0m \u001b[0;34m=\u001b[0m \u001b[0mparam_3\u001b[0m \u001b[0;34m&\u001b[0m \u001b[0mparam_2\u001b[0m\u001b[0;34m\u001b[0m\u001b[0;34m\u001b[0m\u001b[0m\n\u001b[0m\u001b[1;32m      4\u001b[0m     \u001b[0mvar_3\u001b[0m \u001b[0;34m=\u001b[0m \u001b[0mvar_2\u001b[0m \u001b[0;34m|\u001b[0m \u001b[0mvar_1\u001b[0m\u001b[0;34m\u001b[0m\u001b[0;34m\u001b[0m\u001b[0m\n\u001b[1;32m      5\u001b[0m     \u001b[0;32mreturn\u001b[0m \u001b[0mvar_3\u001b[0m\u001b[0;34m\u001b[0m\u001b[0;34m\u001b[0m\u001b[0m\n",
      "\u001b[0;31mTypeError\u001b[0m: unsupported operand type(s) for &: 'float' and 'float'"
     ]
    }
   ],
   "source": [
    "function(1.5, 2.5, 3.5)"
   ]
  },
  {
   "cell_type": "code",
   "execution_count": 5,
   "metadata": {},
   "outputs": [],
   "source": [
    "def function(param_1: set, \n",
    "             param_2: set, \n",
    "             param_3: set) -> set:\n",
    "    var_1 = param_1 - param_2\n",
    "    var_2 = param_3 & param_2\n",
    "    var_3 = var_2 | var_1\n",
    "    return var_3\n",
    "\n",
    "\n",
    "def function(param_1: int, \n",
    "             param_2: int, \n",
    "             param_3: int) -> int:\n",
    "    var_1 = param_1 - param_2\n",
    "    var_2 = param_3 & param_2\n",
    "    var_3 = var_2 | var_1\n",
    "    return var_3"
   ]
  },
  {
   "cell_type": "code",
   "execution_count": 6,
   "metadata": {},
   "outputs": [
    {
     "data": {
      "text/plain": [
       "{1, 2, 5}"
      ]
     },
     "execution_count": 6,
     "metadata": {},
     "output_type": "execute_result"
    }
   ],
   "source": [
    "def function(param_1: set, \n",
    "             param_2: set, \n",
    "             param_3: set) -> set:\n",
    "    var_1 = param_1 - param_2\n",
    "    var_2 = param_3 & param_2\n",
    "    var_3 = var_2 | var_1\n",
    "    return var_3\n",
    "\n",
    "a: set = {1, 2, 3}\n",
    "b: set = {3, 4, 5}\n",
    "c: set = {5, 6, 7}\n",
    "r: set = function(a, b, c)\n",
    "r"
   ]
  },
  {
   "cell_type": "code",
   "execution_count": 7,
   "metadata": {},
   "outputs": [],
   "source": [
    "a: object = None\n",
    "b: dict = {'a': 5}\n",
    "c: list = [1]"
   ]
  },
  {
   "cell_type": "code",
   "execution_count": 8,
   "metadata": {},
   "outputs": [],
   "source": [
    "def function(a: float,\n",
    "             b: dict={},\n",
    "             c: list=[]) -> bool:\n",
    "    pass"
   ]
  },
  {
   "cell_type": "code",
   "execution_count": null,
   "metadata": {},
   "outputs": [],
   "source": []
  }
 ],
 "metadata": {
  "kernelspec": {
   "display_name": "Python 3",
   "language": "python",
   "name": "python3"
  },
  "language_info": {
   "codemirror_mode": {
    "name": "ipython",
    "version": 3
   },
   "file_extension": ".py",
   "mimetype": "text/x-python",
   "name": "python",
   "nbconvert_exporter": "python",
   "pygments_lexer": "ipython3",
   "version": "3.6.9"
  }
 },
 "nbformat": 4,
 "nbformat_minor": 4
}
